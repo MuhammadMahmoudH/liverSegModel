{
 "cells": [
  {
   "cell_type": "code",
   "execution_count": null,
   "metadata": {
    "collapsed": true,
    "pycharm": {
     "name": "#%%\n"
    }
   },
   "outputs": [],
   "source": [
    "def  UnetEfficientNetV2B0(inputs):\n",
    "  efficientNetV2B0 = EfficientNetV2B0(include_top=False,input_shape=(512,512,3),pooling=None)\n",
    "  efficientNetV2B0.trainable = False\n",
    "  rescaling = efficientNetV2B0.get_layer('rescaling')(inputs)\n",
    "  normalization = efficientNetV2B0.get_layer('normalization')(rescaling)\n",
    "  stem_conv = efficientNetV2B0.get_layer('stem_conv')(normalization)\n",
    "  stem_bn = efficientNetV2B0.get_layer('stem_bn')(stem_conv)\n",
    "  stem_activation = efficientNetV2B0.get_layer('stem_activation')(stem_bn)\n",
    "  block1a_project_conv = efficientNetV2B0.get_layer('block1a_project_conv')(stem_activation)\n",
    "  block1a_project_bn = efficientNetV2B0.get_layer('block1a_project_bn')(block1a_project_conv)\n",
    "  block1a_project_activation = efficientNetV2B0.get_layer('block1a_project_activation')(block1a_project_bn)\n",
    "  #-------------------------------------------------------------------------\n",
    "  block2a_expand_conv = efficientNetV2B0.get_layer('block2a_expand_conv')(block1a_project_activation)\n",
    "  block2a_expand_bn = efficientNetV2B0.get_layer('block2a_expand_bn')(block2a_expand_conv)\n",
    "  block2a_expand_activation = efficientNetV2B0.get_layer('block2a_expand_activation')(block2a_expand_bn)\n",
    "  block2a_project_conv = efficientNetV2B0.get_layer('block2a_project_conv')(block2a_expand_activation)\n",
    "  block2a_project_bn = efficientNetV2B0.get_layer('block2a_project_bn')(block2a_project_conv)\n",
    "  block2b_expand_conv = efficientNetV2B0.get_layer('block2b_expand_conv')(block2a_project_bn)\n",
    "  block2b_expand_bn = efficientNetV2B0.get_layer('block2b_expand_bn')(block2b_expand_conv)\n",
    "  block2b_expand_activation = efficientNetV2B0.get_layer('block2b_expand_activation')(block2b_expand_bn)\n",
    "  block2b_project_conv = efficientNetV2B0.get_layer('block2b_project_conv')(block2b_expand_activation)\n",
    "  block2b_project_bn = efficientNetV2B0.get_layer('block2b_project_bn')(block2b_project_conv)\n",
    "  block2b_add = efficientNetV2B0.get_layer('block2b_add')([block2b_project_bn,block2a_project_bn])\n",
    "  #-------------------------------------------------------------------------\n",
    "  block3a_expand_conv = efficientNetV2B0.get_layer('block3a_expand_conv')(block2b_add)\n",
    "  block3a_expand_bn = efficientNetV2B0.get_layer('block3a_expand_bn')(block3a_expand_conv)\n",
    "  block3a_expand_activation = efficientNetV2B0.get_layer('block3a_expand_activation')(block3a_expand_bn)\n",
    "  block3a_project_conv = efficientNetV2B0.get_layer('block3a_project_conv')(block3a_expand_activation)\n",
    "  block3a_project_bn = efficientNetV2B0.get_layer('block3a_project_bn')(block3a_project_conv)\n",
    "  block3b_expand_conv = efficientNetV2B0.get_layer('block3b_expand_conv')(block3a_project_bn)\n",
    "  block3b_expand_bn = efficientNetV2B0.get_layer('block3b_expand_bn')(block3b_expand_conv)\n",
    "  block3b_expand_activation = efficientNetV2B0.get_layer('block3b_expand_activation')(block3b_expand_bn)\n",
    "  block3b_project_conv = efficientNetV2B0.get_layer('block3b_project_conv')(block3b_expand_activation)\n",
    "  block3b_project_bn = efficientNetV2B0.get_layer('block3b_project_bn')(block3b_project_conv)\n",
    "  block3b_add = efficientNetV2B0.get_layer('block3b_add')([block3b_project_bn,block3a_project_bn])\n",
    "  #-------------------------------------------------------------------------\n",
    "  block4a_expand_conv = efficientNetV2B0.get_layer('block4a_expand_conv')(block3b_add)\n",
    "  block4a_expand_bn = efficientNetV2B0.get_layer('block4a_expand_bn')(block4a_expand_conv)\n",
    "  block4a_expand_activation = efficientNetV2B0.get_layer('block4a_expand_activation')(block4a_expand_bn)\n",
    "  #-------------------------------------------------------------------------\n",
    "  maxpool = MaxPool2D()(block4a_expand_activation)\n",
    "\n",
    "  conv5 = Conv2D(576, 3, activation = 'relu', padding = 'same', kernel_initializer = 'he_normal')(maxpool)\n",
    "  conv5 = Conv2D(576, 3, activation = 'relu', padding = 'same', kernel_initializer = 'he_normal')(conv5)\n",
    "  drop5 = Dropout(0.5)(conv5)\n",
    "\n",
    "  up6 = Conv2D(384, 2, activation = 'relu', padding = 'same', kernel_initializer = 'he_normal')(UpSampling2D(size = (2,2))(drop5))\n",
    "  merge6 = concatenate([block4a_expand_activation,up6], axis = 3)\n",
    "  conv6 = Conv2D(384, 3, activation = 'relu', padding = 'same', kernel_initializer = 'he_normal')(merge6)\n",
    "  conv6 = Conv2D(384, 3, activation = 'relu', padding = 'same', kernel_initializer = 'he_normal')(conv6)\n",
    "\n",
    "  up7 = Conv2D(192, 2, activation = 'relu', padding = 'same', kernel_initializer = 'he_normal')(UpSampling2D(size = (2,2))(conv6))\n",
    "  merge7 = concatenate([block2b_add,up7], axis = 3)\n",
    "  conv7 = Conv2D(192, 3, activation = 'relu', padding = 'same', kernel_initializer = 'he_normal')(merge7)\n",
    "  conv7 = Conv2D(192, 3, activation = 'relu', padding = 'same', kernel_initializer = 'he_normal')(conv7)\n",
    "\n",
    "  up8 = Conv2D(64, 2, activation = 'relu', padding = 'same', kernel_initializer = 'he_normal')(UpSampling2D(size = (2,2))(conv7))\n",
    "  merge8 = concatenate([block1a_project_activation,up8], axis = 3)\n",
    "  conv8 = Conv2D(64, 3, activation = 'relu', padding = 'same', kernel_initializer = 'he_normal')(merge8)\n",
    "  conv8 = Conv2D(64, 3, activation = 'relu', padding = 'same', kernel_initializer = 'he_normal')(conv8)\n",
    "\n",
    "  up9 = Conv2D(64, 2, activation = 'relu', padding = 'same', kernel_initializer = 'he_normal')(UpSampling2D(size = (2,2))(conv8))\n",
    "  merge9 = concatenate([normalization,up9], axis = 3)\n",
    "  conv9 = Conv2D(64, 3, activation = 'relu', padding = 'same', kernel_initializer = 'he_normal')(up9)\n",
    "  conv10 = Conv2D(1, 1, activation = 'sigmoid')(conv9)\n",
    "\n",
    "  model = Model(inputs, conv10)\n",
    "  return model"
   ]
  }
 ],
 "metadata": {
  "kernelspec": {
   "display_name": "Python 3",
   "language": "python",
   "name": "python3"
  },
  "language_info": {
   "codemirror_mode": {
    "name": "ipython",
    "version": 2
   },
   "file_extension": ".py",
   "mimetype": "text/x-python",
   "name": "python",
   "nbconvert_exporter": "python",
   "pygments_lexer": "ipython2",
   "version": "2.7.6"
  }
 },
 "nbformat": 4,
 "nbformat_minor": 0
}